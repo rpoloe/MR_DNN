{
  "cells": [
    {
      "cell_type": "code",
      "source": [
        "import numpy as np\n",
        "import pandas as pd\n",
        "import matplotlib.pyplot as plt\n",
        "import tensorflow as tf\n",
        "from tensorflow import keras\n",
        "from tensorflow.keras import layers\n",
        "from google.colab import files\n",
        "files.upload()\n",
        "data = pd.read_csv(\"data_MR.csv\", sep=\";\")\n",
        "dataset = data.values\n",
        "input_data = dataset[:,0:14]\n",
        "output_data = dataset[: ,14:15]"
      ],
      "metadata": {
        "id": "nMoFQSVKedKx"
      },
      "execution_count": null,
      "outputs": []
    },
    {
      "cell_type": "code",
      "source": [
        "#Model_1\n",
        "def build_model():\n",
        "  model = keras.Sequential([\n",
        "    layers.Dense(12, activation=\"relu\", input_shape=[14]),\n",
        "    layers.Dense(4),\n",
        "    layers.Dense(8, activation=\"sigmoid\"),\n",
        "    layers.Dense(1)])\n",
        "  optimizer = tf.keras.optimizers.Adadelta(learning_rate=1, rho=0.8, epsilon=1e-07, name=\"Adadelta\")\n",
        "  model.compile(loss=\"mae\", optimizer=optimizer, metrics=[\"mse\", \"mape\", \"msle\", \"logcosh\"])\n",
        "  return model\n",
        "model = build_model()\n",
        "history = model.fit(input_data, output_data, validation_split=0.2, epochs=75, verbose=1)\n",
        "model.save(\"complete_model_saved.h5\")\n",
        "!mkdir output_folder\n",
        "!tensorflowjs_converter --input_format keras complete_model_saved.h5 output_folder\n",
        "!ls output_folder"
      ],
      "metadata": {
        "id": "iErMlz2heesr"
      },
      "execution_count": null,
      "outputs": []
    },
    {
      "cell_type": "code",
      "source": [
        "#Model_2\n",
        "def build_model():\n",
        "  model = keras.Sequential([\n",
        "    layers.Dense(12, activation=\"relu\", input_shape=[14]),\n",
        "    layers.Dense(8, activation=\"sigmoid\"),\n",
        "    layers.Dense(1)])\n",
        "  optimizer = tf.keras.optimizers.RMSprop(0.001)\n",
        "  model.compile(loss=\"mae\", optimizer=optimizer, metrics=[\"mse\", \"mape\", \"msle\", \"logcosh\"])\n",
        "  return model\n",
        "model = build_model()\n",
        "history = model.fit(input_data, output_data, validation_split=0.2, epochs=100, verbose=1)\n",
        "model.save(\"complete_model_saved.h5\")\n",
        "!mkdir output_folder\n",
        "!tensorflowjs_converter --input_format keras complete_model_saved.h5 output_folder\n",
        "!ls output_folder"
      ],
      "metadata": {
        "id": "ik66toeNehdi"
      },
      "execution_count": null,
      "outputs": []
    }
  ],
  "metadata": {
    "accelerator": "GPU",
    "colab": {
      "collapsed_sections": [],
      "name": "MR_DNN.ipynb",
      "provenance": []
    },
    "gpuClass": "standard",
    "kernelspec": {
      "display_name": "Python 3",
      "name": "python3"
    },
    "language_info": {
      "name": "python"
    }
  },
  "nbformat": 4,
  "nbformat_minor": 0
}